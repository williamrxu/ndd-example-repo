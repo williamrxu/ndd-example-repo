{
 "cells": [
  {
   "cell_type": "code",
   "execution_count": 1,
   "metadata": {},
   "outputs": [
    {
     "name": "stdout",
     "output_type": "stream",
     "text": [
      "Populating the interactive namespace from numpy and matplotlib\n"
     ]
    }
   ],
   "source": [
    "%pylab inline"
   ]
  },
  {
   "cell_type": "code",
   "execution_count": 2,
   "metadata": {},
   "outputs": [
    {
     "name": "stdout",
     "output_type": "stream",
     "text": [
      "(2734, 114)\n"
     ]
    }
   ],
   "source": [
    "import pandas as pd\n",
    "\n",
    "df = pd.read_csv('merged9.csv')\n",
    "\n",
    "print(np.shape(df.values[:,:]))"
   ]
  },
  {
   "cell_type": "code",
   "execution_count": 3,
   "metadata": {},
   "outputs": [],
   "source": [
    "data = df.values[:, 10:111].astype(float)\n",
    "target = df.values[:, 111:113].astype(int)\n",
    "d_name = np.array(df.columns[10:111])\n",
    "t_name = np.array(df.columns[111:113])\n",
    "target1 = target[:,1]\n",
    "\n",
    "# For Merged9 - Feature 10:111, Target 111:113\n",
    "# For MergedTop2 - Feature :54 Target 60:62\n",
    "# For MergedManual1 - Feature 3:43 Target 43:45\n",
    "# For Merged10 - Feature 4:107, Target 106:109 or 17:109????"
   ]
  },
  {
   "cell_type": "code",
   "execution_count": null,
   "metadata": {},
   "outputs": [],
   "source": [
    "#np.where(d_name == '')\n",
    "t_name"
   ]
  },
  {
   "cell_type": "markdown",
   "metadata": {},
   "source": [
    "# Visualization"
   ]
  },
  {
   "cell_type": "code",
   "execution_count": null,
   "metadata": {},
   "outputs": [],
   "source": [
    "# Plot two features\n",
    "i,j = 1, 0;\n",
    "\n",
    "plt.figure(figsize=(10,4))\n",
    "plt.scatter(data[:,i], data[:,j], edgecolor='none', c=target[:,0]); #cmap=cm.brg, alpha=0.5);\n",
    "\n",
    "cbar = plt.colorbar();\n",
    "cbar.set_label('Class');\n",
    "cbar.set_ticks([0,1,2,3,4,5,6,7,8,9,10]); \n",
    "cbar.set_ticklabels([0,1,2,3,4,5,6,7,8,9,10]);\n",
    "\n",
    "xlabel(d_name[i]);\n",
    "ylabel(d_name[j]);\n",
    "title(d_name[i] + ' vs ' + d_name[j]);"
   ]
  },
  {
   "cell_type": "code",
   "execution_count": null,
   "metadata": {},
   "outputs": [],
   "source": [
    "# Plot three features\n",
    "from mpl_toolkits.mplot3d import Axes3D\n",
    "i,j,k = 0, 1, 2\n",
    "\n",
    "fig = plt.figure(figsize=(10,10))\n",
    "ax = fig.add_subplot(111, projection='3d')\n",
    "ax.scatter(data[:,i], data[:,j], data[:,k], c=target[:,0])\n",
    "ax.set_xlabel(d_name[i]);\n",
    "ax.set_ylabel(d_name[j]);\n",
    "ax.set_zlabel(d_name[k]);\n",
    "ax.set_title(d_name[i] + ' vs ' + d_name[j] + ' vs ' + d_name[k], y=1.08)"
   ]
  },
  {
   "cell_type": "markdown",
   "metadata": {},
   "source": [
    "# Data Processing"
   ]
  },
  {
   "cell_type": "code",
   "execution_count": 4,
   "metadata": {},
   "outputs": [
    {
     "data": {
      "text/plain": [
       "(2734, 101)"
      ]
     },
     "execution_count": 4,
     "metadata": {},
     "output_type": "execute_result"
    },
    {
     "data": {
      "image/png": "[encoded data removed]",
      "text/plain": [
       "<Figure size 432x288 with 2 Axes>"
      ]
     },
     "metadata": {
      "needs_background": "light"
     },
     "output_type": "display_data"
    }
   ],
   "source": [
    "from sklearn.decomposition import PCA\n",
    "\n",
    "X = data.copy()\n",
    "\n",
    "pca = PCA(whiten = True);\n",
    "X_white = pca.fit_transform(X);\n",
    "\n",
    "# Eigenvalues\n",
    "E, L = pca.components_.T, pca.explained_variance_\n",
    "subplot(211);\n",
    "plot(L,'o-'); \n",
    "ylabel('Eigenvalues');\n",
    "title('Explained Variance', y = 1.08);\n",
    "\n",
    "# Total Variance\n",
    "subplot(212); \n",
    "cl=np.cumsum(L); \n",
    "plot(cl/cl[-1],'o-r'); \n",
    "ylabel('Total Variance');\n",
    "ylim(0,None);\n",
    "\n",
    "np.shape(X_white)\n",
    "#plt.savefig('1_explained_variance_lethality2', dpi=200)"
   ]
  },
  {
   "cell_type": "code",
   "execution_count": null,
   "metadata": {},
   "outputs": [],
   "source": [
    "i,j = 0, 1;\n",
    "\n",
    "plt.figure(figsize=(6,4))\n",
    "plt.scatter(X_white[:,i], X_white[:,j], edgecolor='none', c=target[:,0]) #cmap=cm.brg, alpha=0.5);\n",
    "\n",
    "cbar = plt.colorbar();\n",
    "cbar.set_label('Class');\n",
    "cbar.set_ticks([0,1,2,3,4,5,6,7,8,9,10]); \n",
    "cbar.set_ticklabels([0,1,2,3,4,5,6,7,8,9,10]);"
   ]
  },
  {
   "cell_type": "markdown",
   "metadata": {},
   "source": [
    "# Classifier Testing"
   ]
  },
  {
   "cell_type": "code",
   "execution_count": 5,
   "metadata": {},
   "outputs": [],
   "source": [
    "from sklearn import neighbors\n",
    "from sklearn.naive_bayes import GaussianNB\n",
    "from sklearn.discriminant_analysis import QuadraticDiscriminantAnalysis as QDA\n",
    "from sklearn.discriminant_analysis import LinearDiscriminantAnalysis as LDA\n",
    "from sklearn import tree\n",
    "from sklearn.ensemble import RandomForestClassifier\n",
    "from sklearn.model_selection import cross_val_score\n",
    "from sklearn.neural_network import MLPClassifier\n",
    "from sklearn.svm import SVC\n",
    "\n",
    "D = np.hstack((X_white, target1[:,newaxis]))\n",
    "#D = np.hstack((data, target1[:,newaxis]))\n",
    "Dc = D.copy()\n",
    "\n",
    "np.random.seed(seed=2019)\n",
    "np.random.shuffle(Dc)\n",
    "seed = 2019\n",
    "\n",
    "X, C = Dc[:, :101], Dc[:, 101]"
   ]
  },
  {
   "cell_type": "code",
   "execution_count": 6,
   "metadata": {},
   "outputs": [
    {
     "data": {
      "text/plain": [
       "array([-6., -5., -4., -3., -2., -1.])"
      ]
     },
     "execution_count": 6,
     "metadata": {},
     "output_type": "execute_result"
    }
   ],
   "source": [
    "unique(C)"
   ]
  },
  {
   "cell_type": "code",
   "execution_count": null,
   "metadata": {},
   "outputs": [],
   "source": [
    "from sklearn.model_selection import StratifiedKFold\n",
    "from sklearn.feature_selection import RFECV\n",
    "\n",
    "svc = SVC(kernel=\"linear\")\n",
    "# The \"accuracy\" scoring is proportional to the number of correct\n",
    "# classifications\n",
    "rfecv = RFECV(estimator=svc, step=1, cv=StratifiedKFold(2),\n",
    "              scoring='accuracy')\n",
    "rfecv.fit(X, C)\n",
    "\n",
    "print(\"Optimal number of features : %d\" % rfecv.n_features_)\n",
    "\n",
    "# Plot number of features VS. cross-validation scores\n",
    "figure()\n",
    "xlabel(\"Number of features selected\")\n",
    "ylabel(\"Cross validation score\")\n",
    "plot(range(1, len(rfecv.grid_scores_) + 1), rfecv.grid_scores_)\n",
    "title(\"Number of Features Included versus Accuracy\")\n",
    "#savefig(\"0_Feature_Selection\", dpi=200)"
   ]
  },
  {
   "cell_type": "code",
   "execution_count": null,
   "metadata": {},
   "outputs": [],
   "source": [
    "#k-NN\n",
    "score_kNN = [];\n",
    "\n",
    "for k in range(1,50):\n",
    "    #clf = neighbors.KNeighborsClassifier(k, weights='distance')\n",
    "    clf = neighbors.KNeighborsClassifier(k, weights='uniform')\n",
    "    score_kNN.append(np.mean(cross_val_score(clf, X, C, cv=3)))\n",
    "\n",
    "best = np.max(score_kNN)\n",
    "k = np.argmax(score_kNN) + 1\n",
    "\n",
    "print('Best k-NN classifier:', best , 'for', k)"
   ]
  },
  {
   "cell_type": "code",
   "execution_count": null,
   "metadata": {},
   "outputs": [],
   "source": [
    "#Class Priors\n",
    "classes = np.unique(C).astype(int)\n",
    "prior = np.ones((2, classes.size))\n",
    "prior[0] = prior[0] / classes.size;\n",
    "\n",
    "for k in classes:\n",
    "    members = (C == k)\n",
    "    num = members.sum()\n",
    "    prior[1,k+8] = num / C.size"
   ]
  },
  {
   "cell_type": "code",
   "execution_count": null,
   "metadata": {},
   "outputs": [],
   "source": [
    "#Gaussian NaiveBayes\n",
    "score_gnb = [];\n",
    "\n",
    "for p in prior:\n",
    "    gnb = GaussianNB(priors=p)\n",
    "    score_gnb.append(np.mean(cross_val_score(gnb, X, C, cv=3)))\n",
    "\n",
    "best = np.max(score_gnb)\n",
    "k = np.argmax(score_gnb)\n",
    "\n",
    "print('Best gnb classifier:', best, 'for', prior[k])"
   ]
  },
  {
   "cell_type": "code",
   "execution_count": null,
   "metadata": {},
   "outputs": [],
   "source": [
    "#LDA\n",
    "score_lda = [];\n",
    "\n",
    "for p in prior:\n",
    "    lda = LDA(priors=p)\n",
    "    score_lda.append(np.mean(cross_val_score(lda, X, C, cv=3)))\n",
    "\n",
    "best = np.max(score_lda)\n",
    "k = np.argmax(score_lda)\n",
    "\n",
    "print('Best LDA classifier:', best, 'for', prior[k])"
   ]
  },
  {
   "cell_type": "code",
   "execution_count": null,
   "metadata": {},
   "outputs": [],
   "source": [
    "#QDA\n",
    "score_qda = [];\n",
    "\n",
    "for p in prior:\n",
    "    \n",
    "    qda = QDA(priors=p)\n",
    "    score_qda.append(np.mean(cross_val_score(qda, X, C, cv=3)))\n",
    "\n",
    "best = np.max(score_qda)\n",
    "k = np.argmax(score_qda)\n",
    "\n",
    "print('Best QDA classifier:', best, 'for', prior[k])"
   ]
  },
  {
   "cell_type": "code",
   "execution_count": null,
   "metadata": {},
   "outputs": [],
   "source": [
    "#Decision Tree\n",
    "score_tree = [];\n",
    "\n",
    "for depth in range(1,50):\n",
    "    clf = tree.DecisionTreeClassifier(max_depth=depth, random_state=seed)\n",
    "    score_tree.append(np.mean(cross_val_score(clf, X,C, cv=3)))\n",
    "\n",
    "best = np.max(score_tree)\n",
    "k = np.argmax(score_tree) + 1\n",
    "\n",
    "print('Best tree classifier:', best, 'for', k)"
   ]
  },
  {
   "cell_type": "code",
   "execution_count": null,
   "metadata": {},
   "outputs": [],
   "source": [
    "#Random Forest\n",
    "score_RF = [];\n",
    "\n",
    "for depth in range(1,20):\n",
    "    clf = RandomForestClassifier(max_depth=depth, random_state=seed)\n",
    "    score_RF.append(np.mean(cross_val_score(clf, X, C, cv=3)))\n",
    "    \n",
    "best = np.max(score_RF)\n",
    "k = np.argmax(score_RF) + 1\n",
    "\n",
    "print('Best random forest classifier:', best, 'for', k)"
   ]
  },
  {
   "cell_type": "code",
   "execution_count": 7,
   "metadata": {},
   "outputs": [
    {
     "name": "stdout",
     "output_type": "stream",
     "text": [
      "Best SVM classifier: 0.5212188906220913\n"
     ]
    }
   ],
   "source": [
    "#SVM\n",
    "\n",
    "svc = SVC(kernel='linear')\n",
    "best = np.mean(cross_val_score(svc, X, C, cv=3))\n",
    "               \n",
    "print('Best SVM classifier:', best)"
   ]
  },
  {
   "cell_type": "code",
   "execution_count": null,
   "metadata": {},
   "outputs": [],
   "source": [
    "#Neural Network\n",
    "score_NN = [];\n",
    "\n",
    "for k in range(200,2000,600):\n",
    "    clf = MLPClassifier(hidden_layer_sizes=(100,), activation='identity', solver='lbfgs', max_iter=k, random_state=seed)\n",
    "    score_NN.append(np.mean(cross_val_score(clf, X, C, cv=3)))\n",
    "\n",
    "best = np.max(score_NN)\n",
    "k = np.argmax(score_NN) * 600 + 200\n",
    "\n",
    "print('Best Neural Network:', best, 'for', k)"
   ]
  },
  {
   "cell_type": "code",
   "execution_count": null,
   "metadata": {},
   "outputs": [],
   "source": [
    "#Gradient Boost\n",
    "from sklearn.ensemble import GradientBoostingClassifier\n",
    "\n",
    "clf = GradientBoostingClassifier(max_depth=3,random_state=seed)\n",
    "print(np.mean(cross_val_score(clf, X, C, cv=3)))"
   ]
  },
  {
   "cell_type": "code",
   "execution_count": null,
   "metadata": {},
   "outputs": [],
   "source": [
    "#XGBoost\n",
    "import xgboost as xgb\n",
    "score_xgb = [];\n",
    "\n",
    "for k in range(0,1):\n",
    "    clf = xgb.XGBClassifier(eta=0.1, max_depth=4, min_child_weight=8, \n",
    "                            gamma=0, subsample=1, colsample_bytree=0.1, alpha=0,\n",
    "                            n_estimators=83)\n",
    "    #(eta=0.01, max_depth=k, min_child_weight=2, gamma=0, subsample=0.2, colsample_bytree=0.2, alpha=0)\n",
    "    score_xgb.append(np.mean(cross_val_score(clf, X, C, cv=3)))\n",
    "\n",
    "best = np.max(score_xgb)\n",
    "k = np.argmax(score_xgb) \n",
    "\n",
    "print('Best XGBoost:', best, 'for', k)\n",
    "# 0.5969348659003831"
   ]
  },
  {
   "cell_type": "code",
   "execution_count": null,
   "metadata": {},
   "outputs": [],
   "source": [
    "from sklearn import metrics   #Additional scklearn functions\n",
    "from matplotlib.pylab import rcParams\n",
    "rcParams['figure.figsize'] = 18, 4"
   ]
  },
  {
   "cell_type": "code",
   "execution_count": null,
   "metadata": {},
   "outputs": [],
   "source": [
    "xgb1 = xgb.XGBClassifier(eta=0.1, max_depth=2, min_child_weight=2, gamma=0)\n",
    "\n",
    "xgb1.fit(data, target1)                   \n",
    "\n",
    "feat_imp = pd.Series(xgb1.get_booster().get_fscore()).sort_values(ascending=False)\n",
    "feat_imp.plot(kind='bar', title='Feature Importances')\n",
    "plt.ylabel('Feature Importance Score')"
   ]
  },
  {
   "cell_type": "code",
   "execution_count": null,
   "metadata": {},
   "outputs": [],
   "source": [
    "print(\"Accuracy : %.4g\" % metrics.accuracy_score(target1, xgb1.predict(data)))"
   ]
  },
  {
   "cell_type": "code",
   "execution_count": null,
   "metadata": {},
   "outputs": [],
   "source": [
    "d_name[[0,1,6,15,30,49,70,26,7,100,20,3,25,31,47]]"
   ]
  },
  {
   "cell_type": "markdown",
   "metadata": {},
   "source": [
    "# Solution Visualization\n"
   ]
  },
  {
   "cell_type": "code",
   "execution_count": null,
   "metadata": {},
   "outputs": [],
   "source": [
    "#Visualization with CV\n",
    "from sklearn.metrics import confusion_matrix\n",
    "\n",
    "D = np.hstack((data,target1[:, newaxis])) #((X_white, target1[:, newaxis]))\n",
    "Dc = D.copy()\n",
    "\n",
    "np.random.seed(seed=2019)\n",
    "np.random.shuffle(Dc)\n",
    "\n",
    "cv = 2\n",
    "split = int(Dc[:,0].size/cv)\n",
    "index = (cv-1) * split\n",
    "\n",
    "\n",
    "X_train, C_train = Dc[:index, :103], Dc[:index, 103]\n",
    "X_test, C_true = Dc[index:, :103], Dc[index:, 103]\n",
    "\n",
    "#clf = neighbors.KNeighborsClassifier(31, weights='distance')\n",
    "#clf = RandomForestClassifier(n_estimators=100, max_depth=13, random_state=seed)\n",
    "#clf = SVC(kernel='linear')\n",
    "#clf = MLPClassifier(hidden_layer_sizes=(100,), activation='logistic', solver='adam', max_iter=800, random_state=seed)\n",
    "clf = xgb.XGBClassifier(eta=0.1, max_depth=2, min_child_weight=2, gamma=0)\n",
    "C_pred = clf.fit(X_train, C_train).predict(X_test)\n",
    "\n",
    "\n",
    "print(\"Number of mislabeled points out of a total %3d points : %2d\" \\\n",
    "        % (X_test.shape[0],(C_true!=C_pred).sum()))\n",
    "\n",
    "#Visualizing using a Color Map\n",
    "CM = confusion_matrix(C_true, C_pred, labels=[-6,-5,-4,-3,-2,-1]); \n",
    "#l = ['-','-10', '-9', '-8', '-7', '-6', '-5','-4','-3']; #[-10,-9,-8,-7,-6,-5,-4,-3]\n",
    "#l = ['-','-12','-11','-10', '-9', '-8', '-7','-6']; #[-12,-11,-10,-9,-8,-7,-6]\n",
    "l = ['-','-6','-5','-4','-3','-2','-1']; #[-6,-5,-4,-3,-2,-1]\n",
    "\n",
    "fig, ax = plt.subplots(figsize=(15, 9))\n",
    "ax.matshow(CM, cmap=plt.cm.Blues)\n",
    "ax.set(title='Confusion Matrix on COVID-19 Lethality \\n', ylabel='True class label', xlabel='Predicted class label');\n",
    "ax.xaxis.set_ticklabels(l); ax.yaxis.set_ticklabels(l);\n",
    "ax.xaxis.set_label_position('top'); ax.xaxis.tick_top();\n",
    "for i in range(6):\n",
    "    for j in range(6):\n",
    "        c = CM[j,i]\n",
    "        ax.text(i, j, str(c), va='center', ha='center')\n",
    "\n",
    "#savefig('2_CM_lethality2', dpi=200);"
   ]
  },
  {
   "cell_type": "code",
   "execution_count": 1,
   "metadata": {},
   "outputs": [
    {
     "ename": "NameError",
     "evalue": "name 'figure' is not defined",
     "output_type": "error",
     "traceback": [
      "\u001b[0;31m---------------------------------------------------------------------------\u001b[0m",
      "\u001b[0;31mNameError\u001b[0m                                 Traceback (most recent call last)",
      "\u001b[0;32m<ipython-input-1-d21bc426b8cd>\u001b[0m in \u001b[0;36m<module>\u001b[0;34m\u001b[0m\n\u001b[1;32m      1\u001b[0m \u001b[0;31m# Visualization using plot\u001b[0m\u001b[0;34m\u001b[0m\u001b[0;34m\u001b[0m\u001b[0;34m\u001b[0m\u001b[0m\n\u001b[1;32m      2\u001b[0m \u001b[0mi\u001b[0m\u001b[0;34m,\u001b[0m \u001b[0mj\u001b[0m \u001b[0;34m=\u001b[0m \u001b[0;36m1\u001b[0m\u001b[0;34m,\u001b[0m \u001b[0;36m0\u001b[0m\u001b[0;34m;\u001b[0m\u001b[0;34m\u001b[0m\u001b[0;34m\u001b[0m\u001b[0m\n\u001b[0;32m----> 3\u001b[0;31m \u001b[0mfigure\u001b[0m\u001b[0;34m(\u001b[0m\u001b[0mfigsize\u001b[0m \u001b[0;34m=\u001b[0m \u001b[0;34m(\u001b[0m\u001b[0;36m25\u001b[0m\u001b[0;34m,\u001b[0m\u001b[0;36m5\u001b[0m\u001b[0;34m)\u001b[0m\u001b[0;34m)\u001b[0m\u001b[0;34m\u001b[0m\u001b[0;34m\u001b[0m\u001b[0m\n\u001b[0m\u001b[1;32m      4\u001b[0m \u001b[0msuptitle\u001b[0m\u001b[0;34m(\u001b[0m\u001b[0;34m'Neural Network on COVID-19 Severity'\u001b[0m\u001b[0;34m)\u001b[0m\u001b[0;34m\u001b[0m\u001b[0;34m\u001b[0m\u001b[0m\n\u001b[1;32m      5\u001b[0m \u001b[0msubplot\u001b[0m\u001b[0;34m(\u001b[0m\u001b[0;36m121\u001b[0m\u001b[0;34m)\u001b[0m \u001b[0;31m# plot points colored according to the true class lebels\u001b[0m\u001b[0;34m\u001b[0m\u001b[0;34m\u001b[0m\u001b[0m\n",
      "\u001b[0;31mNameError\u001b[0m: name 'figure' is not defined"
     ]
    }
   ],
   "source": [
    "# Visualization using plot\n",
    "i, j = 1, 0;\n",
    "figure(figsize = (25,5))\n",
    "suptitle('Neural Network on COVID-19 Severity')\n",
    "subplot(121) # plot points colored according to the true class lebels\n",
    "scatter(X_test[:, i], X_test[:, j], c = C_true, cmap = cm.rainbow, s = 50, edgecolor = 'k');\n",
    "xlabel(d_name[i]);\n",
    "ylabel(d_name[j]);\n",
    "#xlabel('1st Principal Component');\n",
    "#ylabel('2nd Principal Component');\n",
    "title('True Class Label');\n",
    "subplot(122) # plot points colored according to the predicted class lebels\n",
    "scatter(X_test[:, i], X_test[:, j], c = C_pred, cmap = cm.rainbow, s = 50, edgecolor = 'k');\n",
    "xlabel(d_name[i]);\n",
    "ylabel(d_name[j]);\n",
    "#xlabel('1st Principal Component');\n",
    "#ylabel('2nd Principal Component');\n",
    "title('Predicted Class Label');\n",
    "\n",
    "#colorbar();\n",
    "#savefig('3_Plot_severity', dpi=200);"
   ]
  },
  {
   "cell_type": "code",
   "execution_count": null,
   "metadata": {},
   "outputs": [],
   "source": []
  }
 ],
 "metadata": {
  "kernelspec": {
   "display_name": "Python 3",
   "language": "python",
   "name": "python3"
  },
  "language_info": {
   "codemirror_mode": {
    "name": "ipython",
    "version": 3
   },
   "file_extension": ".py",
   "mimetype": "text/x-python",
   "name": "python",
   "nbconvert_exporter": "python",
   "pygments_lexer": "ipython3",
   "version": "3.7.7"
  }
 },
 "nbformat": 4,
 "nbformat_minor": 2
}
